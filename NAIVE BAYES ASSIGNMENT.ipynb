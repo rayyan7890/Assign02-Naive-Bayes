{
  "nbformat": 4,
  "nbformat_minor": 0,
  "metadata": {
    "colab": {
      "name": "Untitled2.ipynb",
      "provenance": []
    },
    "kernelspec": {
      "name": "python3",
      "display_name": "Python 3"
    },
    "language_info": {
      "name": "python"
    }
  },
  "cells": [
    {
      "cell_type": "code",
      "execution_count": 1,
      "metadata": {
        "colab": {
          "base_uri": "https://localhost:8080/"
        },
        "id": "e0Wk6y6TklST",
        "outputId": "25ffffca-b350-4820-b9fc-d9163ecb8249"
      },
      "outputs": [
        {
          "output_type": "stream",
          "name": "stdout",
          "text": [
            "Drive already mounted at /content/drive; to attempt to forcibly remount, call drive.mount(\"/content/drive\", force_remount=True).\n"
          ]
        },
        {
          "output_type": "stream",
          "name": "stderr",
          "text": [
            "/usr/local/lib/python3.7/dist-packages/sklearn/naive_bayes.py:557: UserWarning: alpha too small will result in numeric errors, setting alpha = 1.0e-10\n",
            "  % _ALPHA_MIN\n"
          ]
        },
        {
          "output_type": "stream",
          "name": "stdout",
          "text": [
            "Accuracy of NoMNB 25.616875\n",
            "Accuracy Of LPMNB 25.605125\n",
            "Accuracy Of LDMNB 25.586\n"
          ]
        },
        {
          "output_type": "stream",
          "name": "stderr",
          "text": [
            "/usr/local/lib/python3.7/dist-packages/sklearn/naive_bayes.py:557: UserWarning: alpha too small will result in numeric errors, setting alpha = 1.0e-10\n",
            "  % _ALPHA_MIN\n"
          ]
        },
        {
          "output_type": "stream",
          "name": "stdout",
          "text": [
            "Predicted Values:  [3 6 4 ... 4 6 4]\n",
            "             Id  Cover_Type\n",
            "0       4000000           3\n",
            "1       4000001           6\n",
            "2       4000002           4\n",
            "3       4000003           6\n",
            "4       4000004           4\n",
            "...         ...         ...\n",
            "999995  4999995           4\n",
            "999996  4999996           4\n",
            "999997  4999997           4\n",
            "999998  4999998           6\n",
            "999999  4999999           4\n",
            "\n",
            "[1000000 rows x 2 columns]\n"
          ]
        }
      ],
      "source": [
        "#Rayyan's WORK\n",
        "from google.colab import drive\n",
        "drive.mount('/content/drive')\n",
        "#Libraries \n",
        "import pandas as panda\n",
        "from sklearn.model_selection import train_test_split\n",
        "from sklearn.naive_bayes import MultinomialNB\n",
        "\n",
        "train=panda.read_csv('/content/drive/MyDrive/train.csv')\n",
        "\n",
        "y = train.Cover_Type\n",
        "\n",
        "X = train.drop('Cover_Type', axis=1)\n",
        "\n",
        "#dividing Data Into 80%(Train) And 20%(test)\n",
        "t_train, t_test, y_train, y_test = train_test_split(X, y,test_size=0.2)\n",
        "\n",
        "#Faiq's WORK\n",
        "#No Smoothing \n",
        "clf = MultinomialNB(alpha=0)\n",
        "clf.fit(abs(t_train),y_train)\n",
        "clf.predict(t_test)\n",
        "NoMNB=clf.score(t_test,y_test)\n",
        "print(\"Accuracy of NoMNB\",NoMNB*100)\n",
        "\n",
        "\n",
        "#Laplace Smoothing\n",
        "clf = MultinomialNB(alpha=1)\n",
        "clf.fit(abs(t_train),y_train)\n",
        "clf.fit(abs(t_train),y_train)\n",
        "clf.predict(t_test)\n",
        "LPMNB=clf.score(t_test,y_test)\n",
        "print(\"Accuracy Of LPMNB\",LPMNB*100)\n",
        "\n",
        "#Lidstone  Smoothing \n",
        "clf = MultinomialNB(alpha=0.5)\n",
        "clf.fit(abs(t_train),y_train)\n",
        "clf.fit(abs(t_train),y_train)\n",
        "clf.predict(t_test)\n",
        "LDMNB=clf.score(t_test,y_test)\n",
        "print(\"Accuracy Of LDMNB\",LDMNB*100)\n",
        "\n",
        "\n",
        "#Rayyan's WORK\n",
        "\n",
        "#Loading Training Data From Drive\n",
        "test=panda.read_csv('/content/drive/MyDrive/test.csv')\n",
        "test.head()\n",
        "\n",
        "\n",
        "#Using No Smoothing For Data Fiting,Predicting,And Scoring Accuracy As it's Accuracy Was Good From Others\n",
        "clf = MultinomialNB(alpha=0)\n",
        "clf.fit(abs(t_train),y_train)\n",
        "Cover_type=clf.predict(test)\n",
        "print(\"Predicted Values: \",Cover_type)\n",
        "\n",
        "#Rayyan's WORK\n",
        "#Exporting The Two Colomns(Id And Cover_Type) Into exported colomn Csv\n",
        "exported_col = test[['Id']].copy()\n",
        "exported_col['Cover_Type'] = Cover_type\n",
        "print(exported_col)\n",
        "\n",
        "\n",
        "\"Creating Our Csv File With That Two Exported Columns For Submission On Kaggle\"\n",
        "exported_col.to_csv('exported_col.csv',index=False)"
      ]
    }
  ]
}