#Faiq's WORK
#No Smoothing 
clf = MultinomialNB(alpha=0)
clf.fit(abs(t_train),y_train)
clf.predict(t_test)
NoMNB=clf.score(t_test,y_test)
print("Accuracy of NoMNB",NoMNB*100)


#Laplace Smoothing
clf = MultinomialNB(alpha=1)
clf.fit(abs(t_train),y_train)
clf.fit(abs(t_train),y_train)
clf.predict(t_test)
LPMNB=clf.score(t_test,y_test)
print("Accuracy Of LPMNB",LPMNB*100)

#Lidstone  Smoothing 
clf = MultinomialNB(alpha=0.5)
clf.fit(abs(t_train),y_train)
clf.fit(abs(t_train),y_train)
clf.predict(t_test)
LDMNB=clf.score(t_test,y_test)
print("Accuracy Of LDMNB",LDMNB*100)
